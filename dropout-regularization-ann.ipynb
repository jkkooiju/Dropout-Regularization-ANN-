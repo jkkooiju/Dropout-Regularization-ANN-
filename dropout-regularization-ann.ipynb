{
 "cells": [
  {
   "cell_type": "markdown",
   "id": "2a49c410",
   "metadata": {
    "papermill": {
     "duration": 0.01063,
     "end_time": "2024-02-05T10:10:55.788559",
     "exception": false,
     "start_time": "2024-02-05T10:10:55.777929",
     "status": "completed"
    },
    "tags": []
   },
   "source": [
    "This is a dataset that describes sonar chirp returns bouncing off different services. The 60 input variables are the strength of the returns at different angles. It is a **binary classification problem** that requires a model to differentiate rocks from metal cylinders."
   ]
  },
  {
   "cell_type": "markdown",
   "id": "ff9bed61",
   "metadata": {
    "papermill": {
     "duration": 0.009641,
     "end_time": "2024-02-05T10:10:55.807937",
     "exception": false,
     "start_time": "2024-02-05T10:10:55.798296",
     "status": "completed"
    },
    "tags": []
   },
   "source": [
    "**Import needed libraries**"
   ]
  },
  {
   "cell_type": "code",
   "execution_count": 1,
   "id": "f2f9aa03",
   "metadata": {
    "execution": {
     "iopub.execute_input": "2024-02-05T10:10:55.830071Z",
     "iopub.status.busy": "2024-02-05T10:10:55.829097Z",
     "iopub.status.idle": "2024-02-05T10:10:58.597634Z",
     "shell.execute_reply": "2024-02-05T10:10:58.596344Z"
    },
    "papermill": {
     "duration": 2.784193,
     "end_time": "2024-02-05T10:10:58.601386",
     "exception": false,
     "start_time": "2024-02-05T10:10:55.817193",
     "status": "completed"
    },
    "tags": []
   },
   "outputs": [],
   "source": [
    "import numpy as np\n",
    "import pandas as pd\n",
    "import matplotlib.pyplot as plt\n",
    "import seaborn as sns\n",
    "import warnings\n",
    "warnings.filterwarnings('ignore')"
   ]
  },
  {
   "cell_type": "code",
   "execution_count": 2,
   "id": "b71435c3",
   "metadata": {
    "execution": {
     "iopub.execute_input": "2024-02-05T10:10:58.622694Z",
     "iopub.status.busy": "2024-02-05T10:10:58.622096Z",
     "iopub.status.idle": "2024-02-05T10:10:58.695099Z",
     "shell.execute_reply": "2024-02-05T10:10:58.693840Z"
    },
    "papermill": {
     "duration": 0.087152,
     "end_time": "2024-02-05T10:10:58.698172",
     "exception": false,
     "start_time": "2024-02-05T10:10:58.611020",
     "status": "completed"
    },
    "tags": []
   },
   "outputs": [
    {
     "data": {
      "text/html": [
       "<div>\n",
       "<style scoped>\n",
       "    .dataframe tbody tr th:only-of-type {\n",
       "        vertical-align: middle;\n",
       "    }\n",
       "\n",
       "    .dataframe tbody tr th {\n",
       "        vertical-align: top;\n",
       "    }\n",
       "\n",
       "    .dataframe thead th {\n",
       "        text-align: right;\n",
       "    }\n",
       "</style>\n",
       "<table border=\"1\" class=\"dataframe\">\n",
       "  <thead>\n",
       "    <tr style=\"text-align: right;\">\n",
       "      <th></th>\n",
       "      <th>0</th>\n",
       "      <th>1</th>\n",
       "      <th>2</th>\n",
       "      <th>3</th>\n",
       "      <th>4</th>\n",
       "      <th>5</th>\n",
       "      <th>6</th>\n",
       "      <th>7</th>\n",
       "      <th>8</th>\n",
       "      <th>9</th>\n",
       "      <th>...</th>\n",
       "      <th>51</th>\n",
       "      <th>52</th>\n",
       "      <th>53</th>\n",
       "      <th>54</th>\n",
       "      <th>55</th>\n",
       "      <th>56</th>\n",
       "      <th>57</th>\n",
       "      <th>58</th>\n",
       "      <th>59</th>\n",
       "      <th>60</th>\n",
       "    </tr>\n",
       "  </thead>\n",
       "  <tbody>\n",
       "    <tr>\n",
       "      <th>105</th>\n",
       "      <td>0.0116</td>\n",
       "      <td>0.0179</td>\n",
       "      <td>0.0449</td>\n",
       "      <td>0.1096</td>\n",
       "      <td>0.1913</td>\n",
       "      <td>0.0924</td>\n",
       "      <td>0.0761</td>\n",
       "      <td>0.1092</td>\n",
       "      <td>0.0757</td>\n",
       "      <td>0.1006</td>\n",
       "      <td>...</td>\n",
       "      <td>0.0163</td>\n",
       "      <td>0.0099</td>\n",
       "      <td>0.0084</td>\n",
       "      <td>0.0270</td>\n",
       "      <td>0.0277</td>\n",
       "      <td>0.0097</td>\n",
       "      <td>0.0054</td>\n",
       "      <td>0.0148</td>\n",
       "      <td>0.0092</td>\n",
       "      <td>M</td>\n",
       "    </tr>\n",
       "    <tr>\n",
       "      <th>78</th>\n",
       "      <td>0.0231</td>\n",
       "      <td>0.0351</td>\n",
       "      <td>0.0030</td>\n",
       "      <td>0.0304</td>\n",
       "      <td>0.0339</td>\n",
       "      <td>0.0860</td>\n",
       "      <td>0.1738</td>\n",
       "      <td>0.1351</td>\n",
       "      <td>0.1063</td>\n",
       "      <td>0.0347</td>\n",
       "      <td>...</td>\n",
       "      <td>0.0106</td>\n",
       "      <td>0.0097</td>\n",
       "      <td>0.0022</td>\n",
       "      <td>0.0052</td>\n",
       "      <td>0.0072</td>\n",
       "      <td>0.0056</td>\n",
       "      <td>0.0038</td>\n",
       "      <td>0.0043</td>\n",
       "      <td>0.0030</td>\n",
       "      <td>R</td>\n",
       "    </tr>\n",
       "    <tr>\n",
       "      <th>204</th>\n",
       "      <td>0.0323</td>\n",
       "      <td>0.0101</td>\n",
       "      <td>0.0298</td>\n",
       "      <td>0.0564</td>\n",
       "      <td>0.0760</td>\n",
       "      <td>0.0958</td>\n",
       "      <td>0.0990</td>\n",
       "      <td>0.1018</td>\n",
       "      <td>0.1030</td>\n",
       "      <td>0.2154</td>\n",
       "      <td>...</td>\n",
       "      <td>0.0061</td>\n",
       "      <td>0.0093</td>\n",
       "      <td>0.0135</td>\n",
       "      <td>0.0063</td>\n",
       "      <td>0.0063</td>\n",
       "      <td>0.0034</td>\n",
       "      <td>0.0032</td>\n",
       "      <td>0.0062</td>\n",
       "      <td>0.0067</td>\n",
       "      <td>M</td>\n",
       "    </tr>\n",
       "    <tr>\n",
       "      <th>143</th>\n",
       "      <td>0.0516</td>\n",
       "      <td>0.0944</td>\n",
       "      <td>0.0622</td>\n",
       "      <td>0.0415</td>\n",
       "      <td>0.0995</td>\n",
       "      <td>0.2431</td>\n",
       "      <td>0.1777</td>\n",
       "      <td>0.2018</td>\n",
       "      <td>0.2611</td>\n",
       "      <td>0.1294</td>\n",
       "      <td>...</td>\n",
       "      <td>0.0432</td>\n",
       "      <td>0.0274</td>\n",
       "      <td>0.0152</td>\n",
       "      <td>0.0120</td>\n",
       "      <td>0.0129</td>\n",
       "      <td>0.0020</td>\n",
       "      <td>0.0109</td>\n",
       "      <td>0.0074</td>\n",
       "      <td>0.0078</td>\n",
       "      <td>M</td>\n",
       "    </tr>\n",
       "    <tr>\n",
       "      <th>120</th>\n",
       "      <td>0.0346</td>\n",
       "      <td>0.0509</td>\n",
       "      <td>0.0079</td>\n",
       "      <td>0.0243</td>\n",
       "      <td>0.0432</td>\n",
       "      <td>0.0735</td>\n",
       "      <td>0.0938</td>\n",
       "      <td>0.1134</td>\n",
       "      <td>0.1228</td>\n",
       "      <td>0.1508</td>\n",
       "      <td>...</td>\n",
       "      <td>0.0040</td>\n",
       "      <td>0.0122</td>\n",
       "      <td>0.0107</td>\n",
       "      <td>0.0112</td>\n",
       "      <td>0.0102</td>\n",
       "      <td>0.0052</td>\n",
       "      <td>0.0024</td>\n",
       "      <td>0.0079</td>\n",
       "      <td>0.0031</td>\n",
       "      <td>M</td>\n",
       "    </tr>\n",
       "  </tbody>\n",
       "</table>\n",
       "<p>5 rows × 61 columns</p>\n",
       "</div>"
      ],
      "text/plain": [
       "         0       1       2       3       4       5       6       7       8   \\\n",
       "105  0.0116  0.0179  0.0449  0.1096  0.1913  0.0924  0.0761  0.1092  0.0757   \n",
       "78   0.0231  0.0351  0.0030  0.0304  0.0339  0.0860  0.1738  0.1351  0.1063   \n",
       "204  0.0323  0.0101  0.0298  0.0564  0.0760  0.0958  0.0990  0.1018  0.1030   \n",
       "143  0.0516  0.0944  0.0622  0.0415  0.0995  0.2431  0.1777  0.2018  0.2611   \n",
       "120  0.0346  0.0509  0.0079  0.0243  0.0432  0.0735  0.0938  0.1134  0.1228   \n",
       "\n",
       "         9   ...      51      52      53      54      55      56      57  \\\n",
       "105  0.1006  ...  0.0163  0.0099  0.0084  0.0270  0.0277  0.0097  0.0054   \n",
       "78   0.0347  ...  0.0106  0.0097  0.0022  0.0052  0.0072  0.0056  0.0038   \n",
       "204  0.2154  ...  0.0061  0.0093  0.0135  0.0063  0.0063  0.0034  0.0032   \n",
       "143  0.1294  ...  0.0432  0.0274  0.0152  0.0120  0.0129  0.0020  0.0109   \n",
       "120  0.1508  ...  0.0040  0.0122  0.0107  0.0112  0.0102  0.0052  0.0024   \n",
       "\n",
       "         58      59  60  \n",
       "105  0.0148  0.0092   M  \n",
       "78   0.0043  0.0030   R  \n",
       "204  0.0062  0.0067   M  \n",
       "143  0.0074  0.0078   M  \n",
       "120  0.0079  0.0031   M  \n",
       "\n",
       "[5 rows x 61 columns]"
      ]
     },
     "execution_count": 2,
     "metadata": {},
     "output_type": "execute_result"
    }
   ],
   "source": [
    "df = pd.read_csv(\"/kaggle/input/sonar-dataset/sonar_dataset.csv\", header=None)\n",
    "df.sample(5)"
   ]
  },
  {
   "cell_type": "code",
   "execution_count": 3,
   "id": "4b1112dc",
   "metadata": {
    "execution": {
     "iopub.execute_input": "2024-02-05T10:10:58.719612Z",
     "iopub.status.busy": "2024-02-05T10:10:58.719237Z",
     "iopub.status.idle": "2024-02-05T10:10:58.726499Z",
     "shell.execute_reply": "2024-02-05T10:10:58.725428Z"
    },
    "papermill": {
     "duration": 0.021273,
     "end_time": "2024-02-05T10:10:58.729284",
     "exception": false,
     "start_time": "2024-02-05T10:10:58.708011",
     "status": "completed"
    },
    "tags": []
   },
   "outputs": [
    {
     "data": {
      "text/plain": [
       "(208, 61)"
      ]
     },
     "execution_count": 3,
     "metadata": {},
     "output_type": "execute_result"
    }
   ],
   "source": [
    "df.shape"
   ]
  },
  {
   "cell_type": "code",
   "execution_count": 4,
   "id": "77eaf5d3",
   "metadata": {
    "execution": {
     "iopub.execute_input": "2024-02-05T10:10:58.752999Z",
     "iopub.status.busy": "2024-02-05T10:10:58.751446Z",
     "iopub.status.idle": "2024-02-05T10:10:58.761364Z",
     "shell.execute_reply": "2024-02-05T10:10:58.760406Z"
    },
    "papermill": {
     "duration": 0.024169,
     "end_time": "2024-02-05T10:10:58.763846",
     "exception": false,
     "start_time": "2024-02-05T10:10:58.739677",
     "status": "completed"
    },
    "tags": []
   },
   "outputs": [
    {
     "data": {
      "text/plain": [
       "0     0\n",
       "1     0\n",
       "2     0\n",
       "3     0\n",
       "4     0\n",
       "     ..\n",
       "56    0\n",
       "57    0\n",
       "58    0\n",
       "59    0\n",
       "60    0\n",
       "Length: 61, dtype: int64"
      ]
     },
     "execution_count": 4,
     "metadata": {},
     "output_type": "execute_result"
    }
   ],
   "source": [
    "# check for nan values\n",
    "df.isna().sum()"
   ]
  },
  {
   "cell_type": "code",
   "execution_count": 5,
   "id": "4e7b5ab9",
   "metadata": {
    "execution": {
     "iopub.execute_input": "2024-02-05T10:10:58.789016Z",
     "iopub.status.busy": "2024-02-05T10:10:58.787532Z",
     "iopub.status.idle": "2024-02-05T10:10:58.795133Z",
     "shell.execute_reply": "2024-02-05T10:10:58.794204Z"
    },
    "papermill": {
     "duration": 0.022475,
     "end_time": "2024-02-05T10:10:58.797510",
     "exception": false,
     "start_time": "2024-02-05T10:10:58.775035",
     "status": "completed"
    },
    "tags": []
   },
   "outputs": [
    {
     "data": {
      "text/plain": [
       "Index([ 0,  1,  2,  3,  4,  5,  6,  7,  8,  9, 10, 11, 12, 13, 14, 15, 16, 17,\n",
       "       18, 19, 20, 21, 22, 23, 24, 25, 26, 27, 28, 29, 30, 31, 32, 33, 34, 35,\n",
       "       36, 37, 38, 39, 40, 41, 42, 43, 44, 45, 46, 47, 48, 49, 50, 51, 52, 53,\n",
       "       54, 55, 56, 57, 58, 59, 60],\n",
       "      dtype='int64')"
      ]
     },
     "execution_count": 5,
     "metadata": {},
     "output_type": "execute_result"
    }
   ],
   "source": [
    "df.columns"
   ]
  },
  {
   "cell_type": "code",
   "execution_count": 6,
   "id": "6b53cf9f",
   "metadata": {
    "execution": {
     "iopub.execute_input": "2024-02-05T10:10:58.821839Z",
     "iopub.status.busy": "2024-02-05T10:10:58.820349Z",
     "iopub.status.idle": "2024-02-05T10:10:58.836845Z",
     "shell.execute_reply": "2024-02-05T10:10:58.835324Z"
    },
    "papermill": {
     "duration": 0.031211,
     "end_time": "2024-02-05T10:10:58.839615",
     "exception": false,
     "start_time": "2024-02-05T10:10:58.808404",
     "status": "completed"
    },
    "tags": []
   },
   "outputs": [
    {
     "data": {
      "text/plain": [
       "60\n",
       "M    111\n",
       "R     97\n",
       "Name: count, dtype: int64"
      ]
     },
     "execution_count": 6,
     "metadata": {},
     "output_type": "execute_result"
    }
   ],
   "source": [
    "df[60].value_counts() # label is not skewed"
   ]
  },
  {
   "cell_type": "code",
   "execution_count": 7,
   "id": "2335d21a",
   "metadata": {
    "execution": {
     "iopub.execute_input": "2024-02-05T10:10:58.863781Z",
     "iopub.status.busy": "2024-02-05T10:10:58.863346Z",
     "iopub.status.idle": "2024-02-05T10:10:58.874162Z",
     "shell.execute_reply": "2024-02-05T10:10:58.872952Z"
    },
    "papermill": {
     "duration": 0.025405,
     "end_time": "2024-02-05T10:10:58.876794",
     "exception": false,
     "start_time": "2024-02-05T10:10:58.851389",
     "status": "completed"
    },
    "tags": []
   },
   "outputs": [
    {
     "data": {
      "text/plain": [
       "0    R\n",
       "1    R\n",
       "2    R\n",
       "3    R\n",
       "4    R\n",
       "Name: 60, dtype: object"
      ]
     },
     "execution_count": 7,
     "metadata": {},
     "output_type": "execute_result"
    }
   ],
   "source": [
    "X = df.drop(60, axis=1)\n",
    "y = df[60]\n",
    "y.head()"
   ]
  },
  {
   "cell_type": "code",
   "execution_count": 8,
   "id": "61395218",
   "metadata": {
    "execution": {
     "iopub.execute_input": "2024-02-05T10:10:58.899942Z",
     "iopub.status.busy": "2024-02-05T10:10:58.899449Z",
     "iopub.status.idle": "2024-02-05T10:10:58.914588Z",
     "shell.execute_reply": "2024-02-05T10:10:58.913259Z"
    },
    "papermill": {
     "duration": 0.029934,
     "end_time": "2024-02-05T10:10:58.917327",
     "exception": false,
     "start_time": "2024-02-05T10:10:58.887393",
     "status": "completed"
    },
    "tags": []
   },
   "outputs": [
    {
     "data": {
      "text/html": [
       "<div>\n",
       "<style scoped>\n",
       "    .dataframe tbody tr th:only-of-type {\n",
       "        vertical-align: middle;\n",
       "    }\n",
       "\n",
       "    .dataframe tbody tr th {\n",
       "        vertical-align: top;\n",
       "    }\n",
       "\n",
       "    .dataframe thead th {\n",
       "        text-align: right;\n",
       "    }\n",
       "</style>\n",
       "<table border=\"1\" class=\"dataframe\">\n",
       "  <thead>\n",
       "    <tr style=\"text-align: right;\">\n",
       "      <th></th>\n",
       "      <th>R</th>\n",
       "    </tr>\n",
       "  </thead>\n",
       "  <tbody>\n",
       "    <tr>\n",
       "      <th>190</th>\n",
       "      <td>False</td>\n",
       "    </tr>\n",
       "    <tr>\n",
       "      <th>100</th>\n",
       "      <td>False</td>\n",
       "    </tr>\n",
       "    <tr>\n",
       "      <th>161</th>\n",
       "      <td>False</td>\n",
       "    </tr>\n",
       "    <tr>\n",
       "      <th>141</th>\n",
       "      <td>False</td>\n",
       "    </tr>\n",
       "    <tr>\n",
       "      <th>72</th>\n",
       "      <td>True</td>\n",
       "    </tr>\n",
       "  </tbody>\n",
       "</table>\n",
       "</div>"
      ],
      "text/plain": [
       "         R\n",
       "190  False\n",
       "100  False\n",
       "161  False\n",
       "141  False\n",
       "72    True"
      ]
     },
     "execution_count": 8,
     "metadata": {},
     "output_type": "execute_result"
    }
   ],
   "source": [
    "y = pd.get_dummies(y, drop_first=True)\n",
    "y.sample(5) # R --> 1 and M --> 0"
   ]
  },
  {
   "cell_type": "code",
   "execution_count": 9,
   "id": "22e39362",
   "metadata": {
    "execution": {
     "iopub.execute_input": "2024-02-05T10:10:58.940953Z",
     "iopub.status.busy": "2024-02-05T10:10:58.940522Z",
     "iopub.status.idle": "2024-02-05T10:10:58.952105Z",
     "shell.execute_reply": "2024-02-05T10:10:58.950862Z"
    },
    "papermill": {
     "duration": 0.026958,
     "end_time": "2024-02-05T10:10:58.955083",
     "exception": false,
     "start_time": "2024-02-05T10:10:58.928125",
     "status": "completed"
    },
    "tags": []
   },
   "outputs": [
    {
     "data": {
      "text/plain": [
       "R    \n",
       "False    111\n",
       "True      97\n",
       "Name: count, dtype: int64"
      ]
     },
     "execution_count": 9,
     "metadata": {},
     "output_type": "execute_result"
    }
   ],
   "source": [
    "y.value_counts()"
   ]
  },
  {
   "cell_type": "code",
   "execution_count": 10,
   "id": "1ae5300f",
   "metadata": {
    "execution": {
     "iopub.execute_input": "2024-02-05T10:10:58.979729Z",
     "iopub.status.busy": "2024-02-05T10:10:58.979010Z",
     "iopub.status.idle": "2024-02-05T10:10:59.008685Z",
     "shell.execute_reply": "2024-02-05T10:10:59.007237Z"
    },
    "papermill": {
     "duration": 0.045759,
     "end_time": "2024-02-05T10:10:59.011799",
     "exception": false,
     "start_time": "2024-02-05T10:10:58.966040",
     "status": "completed"
    },
    "tags": []
   },
   "outputs": [
    {
     "data": {
      "text/html": [
       "<div>\n",
       "<style scoped>\n",
       "    .dataframe tbody tr th:only-of-type {\n",
       "        vertical-align: middle;\n",
       "    }\n",
       "\n",
       "    .dataframe tbody tr th {\n",
       "        vertical-align: top;\n",
       "    }\n",
       "\n",
       "    .dataframe thead th {\n",
       "        text-align: right;\n",
       "    }\n",
       "</style>\n",
       "<table border=\"1\" class=\"dataframe\">\n",
       "  <thead>\n",
       "    <tr style=\"text-align: right;\">\n",
       "      <th></th>\n",
       "      <th>0</th>\n",
       "      <th>1</th>\n",
       "      <th>2</th>\n",
       "      <th>3</th>\n",
       "      <th>4</th>\n",
       "      <th>5</th>\n",
       "      <th>6</th>\n",
       "      <th>7</th>\n",
       "      <th>8</th>\n",
       "      <th>9</th>\n",
       "      <th>...</th>\n",
       "      <th>50</th>\n",
       "      <th>51</th>\n",
       "      <th>52</th>\n",
       "      <th>53</th>\n",
       "      <th>54</th>\n",
       "      <th>55</th>\n",
       "      <th>56</th>\n",
       "      <th>57</th>\n",
       "      <th>58</th>\n",
       "      <th>59</th>\n",
       "    </tr>\n",
       "  </thead>\n",
       "  <tbody>\n",
       "    <tr>\n",
       "      <th>0</th>\n",
       "      <td>0.0200</td>\n",
       "      <td>0.0371</td>\n",
       "      <td>0.0428</td>\n",
       "      <td>0.0207</td>\n",
       "      <td>0.0954</td>\n",
       "      <td>0.0986</td>\n",
       "      <td>0.1539</td>\n",
       "      <td>0.1601</td>\n",
       "      <td>0.3109</td>\n",
       "      <td>0.2111</td>\n",
       "      <td>...</td>\n",
       "      <td>0.0232</td>\n",
       "      <td>0.0027</td>\n",
       "      <td>0.0065</td>\n",
       "      <td>0.0159</td>\n",
       "      <td>0.0072</td>\n",
       "      <td>0.0167</td>\n",
       "      <td>0.0180</td>\n",
       "      <td>0.0084</td>\n",
       "      <td>0.0090</td>\n",
       "      <td>0.0032</td>\n",
       "    </tr>\n",
       "    <tr>\n",
       "      <th>1</th>\n",
       "      <td>0.0453</td>\n",
       "      <td>0.0523</td>\n",
       "      <td>0.0843</td>\n",
       "      <td>0.0689</td>\n",
       "      <td>0.1183</td>\n",
       "      <td>0.2583</td>\n",
       "      <td>0.2156</td>\n",
       "      <td>0.3481</td>\n",
       "      <td>0.3337</td>\n",
       "      <td>0.2872</td>\n",
       "      <td>...</td>\n",
       "      <td>0.0125</td>\n",
       "      <td>0.0084</td>\n",
       "      <td>0.0089</td>\n",
       "      <td>0.0048</td>\n",
       "      <td>0.0094</td>\n",
       "      <td>0.0191</td>\n",
       "      <td>0.0140</td>\n",
       "      <td>0.0049</td>\n",
       "      <td>0.0052</td>\n",
       "      <td>0.0044</td>\n",
       "    </tr>\n",
       "    <tr>\n",
       "      <th>2</th>\n",
       "      <td>0.0262</td>\n",
       "      <td>0.0582</td>\n",
       "      <td>0.1099</td>\n",
       "      <td>0.1083</td>\n",
       "      <td>0.0974</td>\n",
       "      <td>0.2280</td>\n",
       "      <td>0.2431</td>\n",
       "      <td>0.3771</td>\n",
       "      <td>0.5598</td>\n",
       "      <td>0.6194</td>\n",
       "      <td>...</td>\n",
       "      <td>0.0033</td>\n",
       "      <td>0.0232</td>\n",
       "      <td>0.0166</td>\n",
       "      <td>0.0095</td>\n",
       "      <td>0.0180</td>\n",
       "      <td>0.0244</td>\n",
       "      <td>0.0316</td>\n",
       "      <td>0.0164</td>\n",
       "      <td>0.0095</td>\n",
       "      <td>0.0078</td>\n",
       "    </tr>\n",
       "    <tr>\n",
       "      <th>3</th>\n",
       "      <td>0.0100</td>\n",
       "      <td>0.0171</td>\n",
       "      <td>0.0623</td>\n",
       "      <td>0.0205</td>\n",
       "      <td>0.0205</td>\n",
       "      <td>0.0368</td>\n",
       "      <td>0.1098</td>\n",
       "      <td>0.1276</td>\n",
       "      <td>0.0598</td>\n",
       "      <td>0.1264</td>\n",
       "      <td>...</td>\n",
       "      <td>0.0241</td>\n",
       "      <td>0.0121</td>\n",
       "      <td>0.0036</td>\n",
       "      <td>0.0150</td>\n",
       "      <td>0.0085</td>\n",
       "      <td>0.0073</td>\n",
       "      <td>0.0050</td>\n",
       "      <td>0.0044</td>\n",
       "      <td>0.0040</td>\n",
       "      <td>0.0117</td>\n",
       "    </tr>\n",
       "    <tr>\n",
       "      <th>4</th>\n",
       "      <td>0.0762</td>\n",
       "      <td>0.0666</td>\n",
       "      <td>0.0481</td>\n",
       "      <td>0.0394</td>\n",
       "      <td>0.0590</td>\n",
       "      <td>0.0649</td>\n",
       "      <td>0.1209</td>\n",
       "      <td>0.2467</td>\n",
       "      <td>0.3564</td>\n",
       "      <td>0.4459</td>\n",
       "      <td>...</td>\n",
       "      <td>0.0156</td>\n",
       "      <td>0.0031</td>\n",
       "      <td>0.0054</td>\n",
       "      <td>0.0105</td>\n",
       "      <td>0.0110</td>\n",
       "      <td>0.0015</td>\n",
       "      <td>0.0072</td>\n",
       "      <td>0.0048</td>\n",
       "      <td>0.0107</td>\n",
       "      <td>0.0094</td>\n",
       "    </tr>\n",
       "  </tbody>\n",
       "</table>\n",
       "<p>5 rows × 60 columns</p>\n",
       "</div>"
      ],
      "text/plain": [
       "       0       1       2       3       4       5       6       7       8   \\\n",
       "0  0.0200  0.0371  0.0428  0.0207  0.0954  0.0986  0.1539  0.1601  0.3109   \n",
       "1  0.0453  0.0523  0.0843  0.0689  0.1183  0.2583  0.2156  0.3481  0.3337   \n",
       "2  0.0262  0.0582  0.1099  0.1083  0.0974  0.2280  0.2431  0.3771  0.5598   \n",
       "3  0.0100  0.0171  0.0623  0.0205  0.0205  0.0368  0.1098  0.1276  0.0598   \n",
       "4  0.0762  0.0666  0.0481  0.0394  0.0590  0.0649  0.1209  0.2467  0.3564   \n",
       "\n",
       "       9   ...      50      51      52      53      54      55      56  \\\n",
       "0  0.2111  ...  0.0232  0.0027  0.0065  0.0159  0.0072  0.0167  0.0180   \n",
       "1  0.2872  ...  0.0125  0.0084  0.0089  0.0048  0.0094  0.0191  0.0140   \n",
       "2  0.6194  ...  0.0033  0.0232  0.0166  0.0095  0.0180  0.0244  0.0316   \n",
       "3  0.1264  ...  0.0241  0.0121  0.0036  0.0150  0.0085  0.0073  0.0050   \n",
       "4  0.4459  ...  0.0156  0.0031  0.0054  0.0105  0.0110  0.0015  0.0072   \n",
       "\n",
       "       57      58      59  \n",
       "0  0.0084  0.0090  0.0032  \n",
       "1  0.0049  0.0052  0.0044  \n",
       "2  0.0164  0.0095  0.0078  \n",
       "3  0.0044  0.0040  0.0117  \n",
       "4  0.0048  0.0107  0.0094  \n",
       "\n",
       "[5 rows x 60 columns]"
      ]
     },
     "execution_count": 10,
     "metadata": {},
     "output_type": "execute_result"
    }
   ],
   "source": [
    "X.head()"
   ]
  },
  {
   "cell_type": "code",
   "execution_count": 11,
   "id": "00896cb7",
   "metadata": {
    "execution": {
     "iopub.execute_input": "2024-02-05T10:10:59.037587Z",
     "iopub.status.busy": "2024-02-05T10:10:59.037168Z",
     "iopub.status.idle": "2024-02-05T10:10:59.442277Z",
     "shell.execute_reply": "2024-02-05T10:10:59.440833Z"
    },
    "papermill": {
     "duration": 0.421885,
     "end_time": "2024-02-05T10:10:59.445508",
     "exception": false,
     "start_time": "2024-02-05T10:10:59.023623",
     "status": "completed"
    },
    "tags": []
   },
   "outputs": [],
   "source": [
    "from sklearn.model_selection import train_test_split\n",
    "X_train, X_test, y_train, y_test = train_test_split(X, y, test_size=0.25, random_state=1)"
   ]
  },
  {
   "cell_type": "code",
   "execution_count": 12,
   "id": "a5b94c18",
   "metadata": {
    "execution": {
     "iopub.execute_input": "2024-02-05T10:10:59.470091Z",
     "iopub.status.busy": "2024-02-05T10:10:59.469594Z",
     "iopub.status.idle": "2024-02-05T10:10:59.502028Z",
     "shell.execute_reply": "2024-02-05T10:10:59.500879Z"
    },
    "papermill": {
     "duration": 0.047934,
     "end_time": "2024-02-05T10:10:59.504702",
     "exception": false,
     "start_time": "2024-02-05T10:10:59.456768",
     "status": "completed"
    },
    "tags": []
   },
   "outputs": [
    {
     "data": {
      "text/html": [
       "<div>\n",
       "<style scoped>\n",
       "    .dataframe tbody tr th:only-of-type {\n",
       "        vertical-align: middle;\n",
       "    }\n",
       "\n",
       "    .dataframe tbody tr th {\n",
       "        vertical-align: top;\n",
       "    }\n",
       "\n",
       "    .dataframe thead th {\n",
       "        text-align: right;\n",
       "    }\n",
       "</style>\n",
       "<table border=\"1\" class=\"dataframe\">\n",
       "  <thead>\n",
       "    <tr style=\"text-align: right;\">\n",
       "      <th></th>\n",
       "      <th>0</th>\n",
       "      <th>1</th>\n",
       "      <th>2</th>\n",
       "      <th>3</th>\n",
       "      <th>4</th>\n",
       "      <th>5</th>\n",
       "      <th>6</th>\n",
       "      <th>7</th>\n",
       "      <th>8</th>\n",
       "      <th>9</th>\n",
       "      <th>...</th>\n",
       "      <th>50</th>\n",
       "      <th>51</th>\n",
       "      <th>52</th>\n",
       "      <th>53</th>\n",
       "      <th>54</th>\n",
       "      <th>55</th>\n",
       "      <th>56</th>\n",
       "      <th>57</th>\n",
       "      <th>58</th>\n",
       "      <th>59</th>\n",
       "    </tr>\n",
       "  </thead>\n",
       "  <tbody>\n",
       "    <tr>\n",
       "      <th>67</th>\n",
       "      <td>0.0368</td>\n",
       "      <td>0.0403</td>\n",
       "      <td>0.0317</td>\n",
       "      <td>0.0293</td>\n",
       "      <td>0.0820</td>\n",
       "      <td>0.1342</td>\n",
       "      <td>0.1161</td>\n",
       "      <td>0.0663</td>\n",
       "      <td>0.0155</td>\n",
       "      <td>0.0506</td>\n",
       "      <td>...</td>\n",
       "      <td>0.0058</td>\n",
       "      <td>0.0091</td>\n",
       "      <td>0.0160</td>\n",
       "      <td>0.0160</td>\n",
       "      <td>0.0081</td>\n",
       "      <td>0.0070</td>\n",
       "      <td>0.0135</td>\n",
       "      <td>0.0067</td>\n",
       "      <td>0.0078</td>\n",
       "      <td>0.0068</td>\n",
       "    </tr>\n",
       "    <tr>\n",
       "      <th>14</th>\n",
       "      <td>0.0124</td>\n",
       "      <td>0.0433</td>\n",
       "      <td>0.0604</td>\n",
       "      <td>0.0449</td>\n",
       "      <td>0.0597</td>\n",
       "      <td>0.0355</td>\n",
       "      <td>0.0531</td>\n",
       "      <td>0.0343</td>\n",
       "      <td>0.1052</td>\n",
       "      <td>0.2120</td>\n",
       "      <td>...</td>\n",
       "      <td>0.0078</td>\n",
       "      <td>0.0083</td>\n",
       "      <td>0.0057</td>\n",
       "      <td>0.0174</td>\n",
       "      <td>0.0188</td>\n",
       "      <td>0.0054</td>\n",
       "      <td>0.0114</td>\n",
       "      <td>0.0196</td>\n",
       "      <td>0.0147</td>\n",
       "      <td>0.0062</td>\n",
       "    </tr>\n",
       "    <tr>\n",
       "      <th>164</th>\n",
       "      <td>0.0163</td>\n",
       "      <td>0.0198</td>\n",
       "      <td>0.0202</td>\n",
       "      <td>0.0386</td>\n",
       "      <td>0.0752</td>\n",
       "      <td>0.1444</td>\n",
       "      <td>0.1487</td>\n",
       "      <td>0.1484</td>\n",
       "      <td>0.2442</td>\n",
       "      <td>0.2822</td>\n",
       "      <td>...</td>\n",
       "      <td>0.0027</td>\n",
       "      <td>0.0077</td>\n",
       "      <td>0.0026</td>\n",
       "      <td>0.0031</td>\n",
       "      <td>0.0083</td>\n",
       "      <td>0.0020</td>\n",
       "      <td>0.0084</td>\n",
       "      <td>0.0108</td>\n",
       "      <td>0.0083</td>\n",
       "      <td>0.0033</td>\n",
       "    </tr>\n",
       "    <tr>\n",
       "      <th>179</th>\n",
       "      <td>0.0394</td>\n",
       "      <td>0.0420</td>\n",
       "      <td>0.0446</td>\n",
       "      <td>0.0551</td>\n",
       "      <td>0.0597</td>\n",
       "      <td>0.1416</td>\n",
       "      <td>0.0956</td>\n",
       "      <td>0.0802</td>\n",
       "      <td>0.1618</td>\n",
       "      <td>0.2558</td>\n",
       "      <td>...</td>\n",
       "      <td>0.0118</td>\n",
       "      <td>0.0146</td>\n",
       "      <td>0.0040</td>\n",
       "      <td>0.0114</td>\n",
       "      <td>0.0032</td>\n",
       "      <td>0.0062</td>\n",
       "      <td>0.0101</td>\n",
       "      <td>0.0068</td>\n",
       "      <td>0.0053</td>\n",
       "      <td>0.0087</td>\n",
       "    </tr>\n",
       "    <tr>\n",
       "      <th>19</th>\n",
       "      <td>0.0126</td>\n",
       "      <td>0.0149</td>\n",
       "      <td>0.0641</td>\n",
       "      <td>0.1732</td>\n",
       "      <td>0.2565</td>\n",
       "      <td>0.2559</td>\n",
       "      <td>0.2947</td>\n",
       "      <td>0.4110</td>\n",
       "      <td>0.4983</td>\n",
       "      <td>0.5920</td>\n",
       "      <td>...</td>\n",
       "      <td>0.0153</td>\n",
       "      <td>0.0092</td>\n",
       "      <td>0.0035</td>\n",
       "      <td>0.0098</td>\n",
       "      <td>0.0121</td>\n",
       "      <td>0.0006</td>\n",
       "      <td>0.0181</td>\n",
       "      <td>0.0094</td>\n",
       "      <td>0.0116</td>\n",
       "      <td>0.0063</td>\n",
       "    </tr>\n",
       "  </tbody>\n",
       "</table>\n",
       "<p>5 rows × 60 columns</p>\n",
       "</div>"
      ],
      "text/plain": [
       "         0       1       2       3       4       5       6       7       8   \\\n",
       "67   0.0368  0.0403  0.0317  0.0293  0.0820  0.1342  0.1161  0.0663  0.0155   \n",
       "14   0.0124  0.0433  0.0604  0.0449  0.0597  0.0355  0.0531  0.0343  0.1052   \n",
       "164  0.0163  0.0198  0.0202  0.0386  0.0752  0.1444  0.1487  0.1484  0.2442   \n",
       "179  0.0394  0.0420  0.0446  0.0551  0.0597  0.1416  0.0956  0.0802  0.1618   \n",
       "19   0.0126  0.0149  0.0641  0.1732  0.2565  0.2559  0.2947  0.4110  0.4983   \n",
       "\n",
       "         9   ...      50      51      52      53      54      55      56  \\\n",
       "67   0.0506  ...  0.0058  0.0091  0.0160  0.0160  0.0081  0.0070  0.0135   \n",
       "14   0.2120  ...  0.0078  0.0083  0.0057  0.0174  0.0188  0.0054  0.0114   \n",
       "164  0.2822  ...  0.0027  0.0077  0.0026  0.0031  0.0083  0.0020  0.0084   \n",
       "179  0.2558  ...  0.0118  0.0146  0.0040  0.0114  0.0032  0.0062  0.0101   \n",
       "19   0.5920  ...  0.0153  0.0092  0.0035  0.0098  0.0121  0.0006  0.0181   \n",
       "\n",
       "         57      58      59  \n",
       "67   0.0067  0.0078  0.0068  \n",
       "14   0.0196  0.0147  0.0062  \n",
       "164  0.0108  0.0083  0.0033  \n",
       "179  0.0068  0.0053  0.0087  \n",
       "19   0.0094  0.0116  0.0063  \n",
       "\n",
       "[5 rows x 60 columns]"
      ]
     },
     "execution_count": 12,
     "metadata": {},
     "output_type": "execute_result"
    }
   ],
   "source": [
    "X_train.head()"
   ]
  },
  {
   "cell_type": "markdown",
   "id": "97c005e9",
   "metadata": {
    "papermill": {
     "duration": 0.011624,
     "end_time": "2024-02-05T10:10:59.528157",
     "exception": false,
     "start_time": "2024-02-05T10:10:59.516533",
     "status": "completed"
    },
    "tags": []
   },
   "source": [
    "# Using Deep Learning Model"
   ]
  },
  {
   "cell_type": "markdown",
   "id": "600c3371",
   "metadata": {
    "papermill": {
     "duration": 0.011724,
     "end_time": "2024-02-05T10:10:59.551712",
     "exception": false,
     "start_time": "2024-02-05T10:10:59.539988",
     "status": "completed"
    },
    "tags": []
   },
   "source": [
    "**Model without Dropout Layer**"
   ]
  },
  {
   "cell_type": "code",
   "execution_count": 13,
   "id": "ed69314c",
   "metadata": {
    "execution": {
     "iopub.execute_input": "2024-02-05T10:10:59.577441Z",
     "iopub.status.busy": "2024-02-05T10:10:59.577026Z",
     "iopub.status.idle": "2024-02-05T10:11:16.059424Z",
     "shell.execute_reply": "2024-02-05T10:11:16.058031Z"
    },
    "papermill": {
     "duration": 16.499634,
     "end_time": "2024-02-05T10:11:16.063178",
     "exception": false,
     "start_time": "2024-02-05T10:10:59.563544",
     "status": "completed"
    },
    "tags": []
   },
   "outputs": [
    {
     "name": "stderr",
     "output_type": "stream",
     "text": [
      "2024-02-05 10:11:01.977409: E external/local_xla/xla/stream_executor/cuda/cuda_dnn.cc:9261] Unable to register cuDNN factory: Attempting to register factory for plugin cuDNN when one has already been registered\n",
      "2024-02-05 10:11:01.977567: E external/local_xla/xla/stream_executor/cuda/cuda_fft.cc:607] Unable to register cuFFT factory: Attempting to register factory for plugin cuFFT when one has already been registered\n",
      "2024-02-05 10:11:02.153409: E external/local_xla/xla/stream_executor/cuda/cuda_blas.cc:1515] Unable to register cuBLAS factory: Attempting to register factory for plugin cuBLAS when one has already been registered\n"
     ]
    }
   ],
   "source": [
    "from tensorflow.keras.layers import Dense\n",
    "from tensorflow.keras.models import Sequential\n",
    "from sklearn.model_selection import train_test_split"
   ]
  },
  {
   "cell_type": "code",
   "execution_count": 14,
   "id": "e7831a6a",
   "metadata": {
    "execution": {
     "iopub.execute_input": "2024-02-05T10:11:16.090345Z",
     "iopub.status.busy": "2024-02-05T10:11:16.089411Z",
     "iopub.status.idle": "2024-02-05T10:11:16.099008Z",
     "shell.execute_reply": "2024-02-05T10:11:16.097997Z"
    },
    "papermill": {
     "duration": 0.025941,
     "end_time": "2024-02-05T10:11:16.101600",
     "exception": false,
     "start_time": "2024-02-05T10:11:16.075659",
     "status": "completed"
    },
    "tags": []
   },
   "outputs": [],
   "source": [
    "X_train, X_test, y_train, y_test = train_test_split(X, y, train_size=0.9, shuffle=True, random_state=42)"
   ]
  },
  {
   "cell_type": "code",
   "execution_count": 15,
   "id": "14018a05",
   "metadata": {
    "execution": {
     "iopub.execute_input": "2024-02-05T10:11:16.128379Z",
     "iopub.status.busy": "2024-02-05T10:11:16.127870Z",
     "iopub.status.idle": "2024-02-05T10:11:17.018138Z",
     "shell.execute_reply": "2024-02-05T10:11:17.016696Z"
    },
    "papermill": {
     "duration": 0.905711,
     "end_time": "2024-02-05T10:11:17.019587",
     "exception": true,
     "start_time": "2024-02-05T10:11:16.113876",
     "status": "failed"
    },
    "tags": []
   },
   "outputs": [
    {
     "ename": "NameError",
     "evalue": "name 'keras' is not defined",
     "output_type": "error",
     "traceback": [
      "\u001b[0;31m---------------------------------------------------------------------------\u001b[0m",
      "\u001b[0;31mNameError\u001b[0m                                 Traceback (most recent call last)",
      "Cell \u001b[0;32mIn[15], line 1\u001b[0m\n\u001b[0;32m----> 1\u001b[0m model \u001b[38;5;241m=\u001b[39m \u001b[43mkeras\u001b[49m\u001b[38;5;241m.\u001b[39mSequential([\n\u001b[1;32m      2\u001b[0m     keras\u001b[38;5;241m.\u001b[39mlayers\u001b[38;5;241m.\u001b[39mDense(\u001b[38;5;241m60\u001b[39m, input_dim\u001b[38;5;241m=\u001b[39m\u001b[38;5;241m60\u001b[39m, activation\u001b[38;5;241m=\u001b[39m\u001b[38;5;124m'\u001b[39m\u001b[38;5;124mrelu\u001b[39m\u001b[38;5;124m'\u001b[39m),\n\u001b[1;32m      3\u001b[0m     keras\u001b[38;5;241m.\u001b[39mlayers\u001b[38;5;241m.\u001b[39mDense(\u001b[38;5;241m30\u001b[39m, activation\u001b[38;5;241m=\u001b[39m\u001b[38;5;124m'\u001b[39m\u001b[38;5;124mrelu\u001b[39m\u001b[38;5;124m'\u001b[39m),\n\u001b[1;32m      4\u001b[0m     keras\u001b[38;5;241m.\u001b[39mlayers\u001b[38;5;241m.\u001b[39mDense(\u001b[38;5;241m15\u001b[39m, activation\u001b[38;5;241m=\u001b[39m\u001b[38;5;124m'\u001b[39m\u001b[38;5;124mrelu\u001b[39m\u001b[38;5;124m'\u001b[39m),\n\u001b[1;32m      5\u001b[0m     keras\u001b[38;5;241m.\u001b[39mlayers\u001b[38;5;241m.\u001b[39mDense(\u001b[38;5;241m1\u001b[39m, activation\u001b[38;5;241m=\u001b[39m\u001b[38;5;124m'\u001b[39m\u001b[38;5;124msigmoid\u001b[39m\u001b[38;5;124m'\u001b[39m)\n\u001b[1;32m      6\u001b[0m ])\n\u001b[1;32m      8\u001b[0m model\u001b[38;5;241m.\u001b[39mcompile(loss\u001b[38;5;241m=\u001b[39m\u001b[38;5;124m'\u001b[39m\u001b[38;5;124mbinary_crossentropy\u001b[39m\u001b[38;5;124m'\u001b[39m, optimizer\u001b[38;5;241m=\u001b[39m\u001b[38;5;124m'\u001b[39m\u001b[38;5;124madam\u001b[39m\u001b[38;5;124m'\u001b[39m, metrics\u001b[38;5;241m=\u001b[39m[\u001b[38;5;124m'\u001b[39m\u001b[38;5;124maccuracy\u001b[39m\u001b[38;5;124m'\u001b[39m])\n\u001b[1;32m     10\u001b[0m model\u001b[38;5;241m.\u001b[39msummary()\n",
      "\u001b[0;31mNameError\u001b[0m: name 'keras' is not defined"
     ]
    }
   ],
   "source": [
    "model = keras.Sequential([\n",
    "    keras.layers.Dense(60, input_dim=60, activation='relu'),\n",
    "    keras.layers.Dense(30, activation='relu'),\n",
    "    keras.layers.Dense(15, activation='relu'),\n",
    "    keras.layers.Dense(1, activation='sigmoid')\n",
    "])\n",
    "\n",
    "model.compile(loss='binary_crossentropy', optimizer='adam', metrics=['accuracy'])\n",
    "\n",
    "model.summary()"
   ]
  },
  {
   "cell_type": "code",
   "execution_count": null,
   "id": "8f39eadc",
   "metadata": {
    "collapsed": true,
    "execution": {
     "iopub.execute_input": "2024-02-05T10:04:22.471737Z",
     "iopub.status.busy": "2024-02-05T10:04:22.471332Z",
     "iopub.status.idle": "2024-02-05T10:04:33.835884Z",
     "shell.execute_reply": "2024-02-05T10:04:33.834633Z",
     "shell.execute_reply.started": "2024-02-05T10:04:22.471691Z"
    },
    "jupyter": {
     "outputs_hidden": true
    },
    "papermill": {
     "duration": null,
     "end_time": null,
     "exception": null,
     "start_time": null,
     "status": "pending"
    },
    "tags": []
   },
   "outputs": [],
   "source": [
    "history = model.fit(X_train, y_train, epochs=150, validation_split=0.2)"
   ]
  },
  {
   "cell_type": "code",
   "execution_count": null,
   "id": "bcdd1ca0",
   "metadata": {
    "execution": {
     "iopub.execute_input": "2024-02-05T10:04:48.809518Z",
     "iopub.status.busy": "2024-02-05T10:04:48.809111Z",
     "iopub.status.idle": "2024-02-05T10:04:48.928557Z",
     "shell.execute_reply": "2024-02-05T10:04:48.927366Z",
     "shell.execute_reply.started": "2024-02-05T10:04:48.809487Z"
    },
    "papermill": {
     "duration": null,
     "end_time": null,
     "exception": null,
     "start_time": null,
     "status": "pending"
    },
    "tags": []
   },
   "outputs": [],
   "source": [
    "model.evaluate(X_test, y_test)"
   ]
  },
  {
   "cell_type": "code",
   "execution_count": null,
   "id": "de6aa226",
   "metadata": {
    "execution": {
     "iopub.execute_input": "2024-02-05T10:04:58.689280Z",
     "iopub.status.busy": "2024-02-05T10:04:58.688101Z",
     "iopub.status.idle": "2024-02-05T10:04:58.908922Z",
     "shell.execute_reply": "2024-02-05T10:04:58.907789Z",
     "shell.execute_reply.started": "2024-02-05T10:04:58.689200Z"
    },
    "papermill": {
     "duration": null,
     "end_time": null,
     "exception": null,
     "start_time": null,
     "status": "pending"
    },
    "tags": []
   },
   "outputs": [],
   "source": [
    "y_pred = model.predict(X_test).reshape(-1)\n",
    "print(y_pred[:10])\n",
    "\n",
    "# round the values to nearest integer ie 0 or 1\n",
    "y_pred = np.round(y_pred)\n",
    "print(y_pred[:10])"
   ]
  },
  {
   "cell_type": "code",
   "execution_count": null,
   "id": "321d0ed9",
   "metadata": {
    "execution": {
     "iopub.execute_input": "2024-02-05T10:05:06.376061Z",
     "iopub.status.busy": "2024-02-05T10:05:06.375675Z",
     "iopub.status.idle": "2024-02-05T10:05:06.390629Z",
     "shell.execute_reply": "2024-02-05T10:05:06.389736Z",
     "shell.execute_reply.started": "2024-02-05T10:05:06.376033Z"
    },
    "papermill": {
     "duration": null,
     "end_time": null,
     "exception": null,
     "start_time": null,
     "status": "pending"
    },
    "tags": []
   },
   "outputs": [],
   "source": [
    "y_test[:10]"
   ]
  },
  {
   "cell_type": "code",
   "execution_count": null,
   "id": "07a8b70e",
   "metadata": {
    "execution": {
     "iopub.execute_input": "2024-02-05T10:05:18.896442Z",
     "iopub.status.busy": "2024-02-05T10:05:18.896017Z",
     "iopub.status.idle": "2024-02-05T10:05:18.920272Z",
     "shell.execute_reply": "2024-02-05T10:05:18.918760Z",
     "shell.execute_reply.started": "2024-02-05T10:05:18.896411Z"
    },
    "papermill": {
     "duration": null,
     "end_time": null,
     "exception": null,
     "start_time": null,
     "status": "pending"
    },
    "tags": []
   },
   "outputs": [],
   "source": [
    "from sklearn.metrics import confusion_matrix , classification_report\n",
    "\n",
    "print(classification_report(y_test, y_pred))"
   ]
  },
  {
   "cell_type": "code",
   "execution_count": null,
   "id": "d85982c1",
   "metadata": {
    "execution": {
     "iopub.execute_input": "2024-02-05T10:06:11.715008Z",
     "iopub.status.busy": "2024-02-05T10:06:11.714541Z",
     "iopub.status.idle": "2024-02-05T10:06:12.511543Z",
     "shell.execute_reply": "2024-02-05T10:06:12.510600Z",
     "shell.execute_reply.started": "2024-02-05T10:06:11.714974Z"
    },
    "papermill": {
     "duration": null,
     "end_time": null,
     "exception": null,
     "start_time": null,
     "status": "pending"
    },
    "tags": []
   },
   "outputs": [],
   "source": [
    "tr_acc = history.history['accuracy']\n",
    "tr_loss = history.history['loss']\n",
    "val_acc = history.history['val_accuracy']\n",
    "val_loss = history.history['val_loss']\n",
    "\n",
    "epochs = [i+1 for i in range(len(tr_acc))]\n",
    "\n",
    "plt.figure(figsize=(20, 8))\n",
    "plt.subplot(1, 2, 1)\n",
    "plt.plot(epochs, tr_loss, 'r', label='Train Loss')\n",
    "plt.plot(epochs, val_loss, 'g', label='Valid Loss')\n",
    "plt.title('Loss')\n",
    "plt.legend()\n",
    "plt.xlabel('Epochs')\n",
    "plt.ylabel('Loss')\n",
    "\n",
    "plt.subplot(1, 2, 2)\n",
    "plt.plot(epochs, tr_acc, 'r', label='Train Accuracy')\n",
    "plt.plot(epochs, val_acc, 'g', label='Valid Accuracy')\n",
    "plt.title('Accuracy')\n",
    "plt.legend()\n",
    "plt.xlabel('Epochs')\n",
    "plt.ylabel('Accuracy')\n",
    "\n",
    "plt.tight_layout()\n",
    "plt.show()"
   ]
  },
  {
   "cell_type": "code",
   "execution_count": null,
   "id": "8bb7deb7",
   "metadata": {
    "execution": {
     "iopub.execute_input": "2024-02-05T10:06:44.472637Z",
     "iopub.status.busy": "2024-02-05T10:06:44.472173Z",
     "iopub.status.idle": "2024-02-05T10:06:44.489835Z",
     "shell.execute_reply": "2024-02-05T10:06:44.488823Z",
     "shell.execute_reply.started": "2024-02-05T10:06:44.472597Z"
    },
    "papermill": {
     "duration": null,
     "end_time": null,
     "exception": null,
     "start_time": null,
     "status": "pending"
    },
    "tags": []
   },
   "outputs": [],
   "source": [
    "from sklearn.metrics import confusion_matrix\n",
    "\n",
    "cm = confusion_matrix(y_test, y_pred)\n",
    "cm"
   ]
  },
  {
   "cell_type": "code",
   "execution_count": null,
   "id": "4d19a91e",
   "metadata": {
    "execution": {
     "iopub.execute_input": "2024-02-05T10:06:54.537229Z",
     "iopub.status.busy": "2024-02-05T10:06:54.536064Z",
     "iopub.status.idle": "2024-02-05T10:06:54.774650Z",
     "shell.execute_reply": "2024-02-05T10:06:54.773200Z",
     "shell.execute_reply.started": "2024-02-05T10:06:54.537185Z"
    },
    "papermill": {
     "duration": null,
     "end_time": null,
     "exception": null,
     "start_time": null,
     "status": "pending"
    },
    "tags": []
   },
   "outputs": [],
   "source": [
    "sns.heatmap(cm, annot=True)\n",
    "plt.show()"
   ]
  },
  {
   "cell_type": "code",
   "execution_count": null,
   "id": "c999e66a",
   "metadata": {
    "execution": {
     "iopub.execute_input": "2024-02-05T10:08:52.074200Z",
     "iopub.status.busy": "2024-02-05T10:08:52.072240Z",
     "iopub.status.idle": "2024-02-05T10:08:52.117476Z",
     "shell.execute_reply": "2024-02-05T10:08:52.116155Z",
     "shell.execute_reply.started": "2024-02-05T10:08:52.074145Z"
    },
    "papermill": {
     "duration": null,
     "end_time": null,
     "exception": null,
     "start_time": null,
     "status": "pending"
    },
    "tags": []
   },
   "outputs": [],
   "source": [
    "model.save('model.h5')"
   ]
  }
 ],
 "metadata": {
  "kaggle": {
   "accelerator": "none",
   "dataSources": [
    {
     "datasetId": 4382826,
     "sourceId": 7524036,
     "sourceType": "datasetVersion"
    }
   ],
   "dockerImageVersionId": 30646,
   "isGpuEnabled": false,
   "isInternetEnabled": true,
   "language": "python",
   "sourceType": "notebook"
  },
  "kernelspec": {
   "display_name": "Python 3",
   "language": "python",
   "name": "python3"
  },
  "language_info": {
   "codemirror_mode": {
    "name": "ipython",
    "version": 3
   },
   "file_extension": ".py",
   "mimetype": "text/x-python",
   "name": "python",
   "nbconvert_exporter": "python",
   "pygments_lexer": "ipython3",
   "version": "3.10.13"
  },
  "papermill": {
   "default_parameters": {},
   "duration": 27.303368,
   "end_time": "2024-02-05T10:11:19.605120",
   "environment_variables": {},
   "exception": true,
   "input_path": "__notebook__.ipynb",
   "output_path": "__notebook__.ipynb",
   "parameters": {},
   "start_time": "2024-02-05T10:10:52.301752",
   "version": "2.5.0"
  }
 },
 "nbformat": 4,
 "nbformat_minor": 5
}
